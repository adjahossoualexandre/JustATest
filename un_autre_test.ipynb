{
 "metadata": {
  "language_info": {
   "codemirror_mode": {
    "name": "ipython",
    "version": 3
   },
   "file_extension": ".py",
   "mimetype": "text/x-python",
   "name": "python",
   "nbconvert_exporter": "python",
   "pygments_lexer": "ipython3",
   "version": "3.8.3-final"
  },
  "orig_nbformat": 2,
  "kernelspec": {
   "name": "python3",
   "display_name": "Python 3.8.3 32-bit",
   "metadata": {
    "interpreter": {
     "hash": "7f15436cc8fca59e2baac5a2c47cec61947ed4fd397bf287abba3523dfcdaed4"
    }
   }
  }
 },
 "nbformat": 4,
 "nbformat_minor": 2,
 "cells": [
  {
   "cell_type": "code",
   "execution_count": 2,
   "metadata": {},
   "outputs": [],
   "source": [
    "import numpy as np\n",
    "import  pandas as pd\n",
    "from src import utils"
   ]
  },
  {
   "source": [
    "Just pour vérifier tahu"
   ],
   "cell_type": "markdown",
   "metadata": {}
  },
  {
   "cell_type": "code",
   "execution_count": 3,
   "metadata": {},
   "outputs": [
    {
     "output_type": "execute_result",
     "data": {
      "text/plain": [
       "'un'"
      ]
     },
     "metadata": {},
     "execution_count": 3
    }
   ],
   "source": [
    "utils.num_to_word(1)"
   ]
  },
  {
   "cell_type": "code",
   "execution_count": 7,
   "metadata": {},
   "outputs": [
    {
     "output_type": "stream",
     "name": "stdout",
     "text": [
      "zero\nun\ndeux\nflemme\nflemme\nflemme\nflemme\nflemme\nflemme\nflemme\n"
     ]
    }
   ],
   "source": [
    "for i in range(10):\n",
    "    print(utils.num_to_word(i))"
   ]
  },
  {
   "cell_type": "code",
   "execution_count": null,
   "metadata": {},
   "outputs": [],
   "source": [
    "# on fait que tester ici\n",
    "for i in range(11,21):\n",
    "    print(utils.num_to_word(i))"
   ]
  }
 ]
}